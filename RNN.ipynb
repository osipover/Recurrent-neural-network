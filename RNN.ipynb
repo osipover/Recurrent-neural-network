{
 "cells": [
  {
   "cell_type": "code",
   "execution_count": 106,
   "id": "initial_id",
   "metadata": {
    "collapsed": true,
    "ExecuteTime": {
     "end_time": "2024-05-22T12:56:17.205464100Z",
     "start_time": "2024-05-22T12:56:17.196992900Z"
    }
   },
   "outputs": [],
   "source": [
    "from math import sqrt\n",
    "import pandas as pd\n",
    "import numpy as np\n",
    "from sklearn.model_selection import train_test_split\n",
    "from sklearn.preprocessing import StandardScaler\n",
    "from sklearn.metrics import root_mean_squared_error, r2_score"
   ]
  },
  {
   "cell_type": "code",
   "outputs": [],
   "source": [
    "def mse(y_pred, y_test):\n",
    "    return np.mean((y_pred - y_test) ** 2)\n",
    "\n",
    "def sigmoid(x):\n",
    "    return 1.0 / (1.0 + np.exp(-x))\n",
    "\n",
    "def sigmoid_derivative(x):\n",
    "    return x * (1 - x)"
   ],
   "metadata": {
    "collapsed": false,
    "ExecuteTime": {
     "end_time": "2024-05-22T12:22:22.721378400Z",
     "start_time": "2024-05-22T12:22:22.682347600Z"
    }
   },
   "id": "6c69bdd99f842194",
   "execution_count": 95
  },
  {
   "cell_type": "code",
   "outputs": [],
   "source": [
    "class RNN:\n",
    "    def __init__(self, input_size, hidden_size, output_size):\n",
    "        self.weights_input = self.__init_weights((input_size, hidden_size))  # матрица весов входного слоя\n",
    "        self.weights_hidden = self.__init_weights((hidden_size, hidden_size)) # матрица весов рекуррентного слоя\n",
    "        self.weights_output = self.__init_weights((hidden_size, output_size)) # матрица весов выходного слоя\n",
    "        self.hidden_biases = np.zeros((1, hidden_size))\n",
    "        self.output_biases = np.zeros((1, output_size))\n",
    "        self.hidden_state = np.zeros((1, hidden_size))                        # предыдущее состояние рекуррентного слоя\n",
    "\n",
    "    def __forward_propagation(self, input_vector):\n",
    "        self.hidden_state = sigmoid(np.dot(input_vector, self.weights_input) + np.dot(self.hidden_state, self.weights_hidden) + self.hidden_biases)\n",
    "        output = np.dot(self.hidden_state, self.weights_output) + self.output_biases\n",
    "        return output\n",
    "    \n",
    "    def predict(self, x):\n",
    "        return self.__forward_propagation(x)\n",
    "\n",
    "    def __backward_propagation(self, input_vector, output, target, learning_rate):\n",
    "        output_error = 2 * (output - target) / target.shape[0]  # вычисление ошибки на выходном слое\n",
    "        output_grad = np.dot(self.hidden_state.T, output_error)  # вычисление градиентов для весов выходного слоя (V)\n",
    "        by_grad = np.sum(output_error, axis=0, keepdims=True)  # вычисление градиентов для смещения выходного слоя (V)\n",
    "        hidden_error = np.dot(output_error, self.weights_input.T) * sigmoid_derivative(self.hidden_state) # вычисление ошибки на скрытом слое\n",
    "\n",
    "        input_grad = np.dot(input_vector.T, hidden_error)  # вычисление градиентов для весов входного слоя\n",
    "\n",
    "        hidden_grad = np.dot(self.hidden_state.T, hidden_error)  # вычисление градиентов для рекуррентных весов\n",
    "\n",
    "        bh_grad = np.sum(hidden_error, axis=0, keepdims=True)         # вычисление градиентов для смещения скрытого слоя\n",
    "\n",
    "        # обновление весов и смещений\n",
    "        self.weights_output -= learning_rate * output_grad\n",
    "        self.output_biases -= learning_rate * by_grad\n",
    "        self.weights_input -= learning_rate * input_grad\n",
    "        self.weights_hidden -= learning_rate * hidden_grad\n",
    "        self.hidden_biases -= learning_rate * bh_grad\n",
    "\n",
    "    def train(self, x_train, y_train, epochs=100, learning_rate=0.01, batch_size=32):\n",
    "        for epoch in range(epochs):\n",
    "            for i in range(0, len(x_train), batch_size):\n",
    "                batch_x, batch_y = x_train[i:i+batch_size], y_train[i:i+batch_size]\n",
    "                outputs, states = [], [] # Список выходов и скрытых состояний для всех примеров в батче.\n",
    "\n",
    "                # Вычисляет выходной вектор для каждого входного вектора x в батче\n",
    "                for x in batch_x:\n",
    "                    out = self.__forward_propagation(x.reshape(1, -1))\n",
    "                    outputs.append(out)\n",
    "\n",
    "                outputs = np.vstack(outputs)\n",
    "                batch_y = batch_y.reshape(-1, 1)\n",
    "\n",
    "                # Обратное распространение для каждого примера в батче\n",
    "                for j in range(batch_x.shape[0]):\n",
    "                    self.__backward_propagation(batch_x[j].reshape(1, -1), outputs[j].reshape(1, -1), batch_y[j].reshape(1, -1), learning_rate)\n",
    "\n",
    "\n",
    "    def __init_weights(self, size):\n",
    "        return np.random.uniform(-1, 1, size)"
   ],
   "metadata": {
    "collapsed": false,
    "ExecuteTime": {
     "end_time": "2024-05-22T12:22:22.738383200Z",
     "start_time": "2024-05-22T12:22:22.717395900Z"
    }
   },
   "id": "cbd036212eb7776c",
   "execution_count": 96
  },
  {
   "cell_type": "code",
   "outputs": [],
   "source": [
    "df = pd.read_csv('resources/Clear_steel_industry_data.csv')"
   ],
   "metadata": {
    "collapsed": false,
    "ExecuteTime": {
     "end_time": "2024-05-22T12:22:22.786784200Z",
     "start_time": "2024-05-22T12:22:22.742381800Z"
    }
   },
   "id": "d8afab7fb7b8e656",
   "execution_count": 97
  },
  {
   "cell_type": "code",
   "outputs": [],
   "source": [
    "x = df.drop('Usage_kWh', axis=1).values\n",
    "y = df['Usage_kWh'].values.reshape(-1, 1)"
   ],
   "metadata": {
    "collapsed": false,
    "ExecuteTime": {
     "end_time": "2024-05-22T12:22:22.786784200Z",
     "start_time": "2024-05-22T12:22:22.774499300Z"
    }
   },
   "id": "524a0fa59501f6b1",
   "execution_count": 98
  },
  {
   "cell_type": "code",
   "outputs": [],
   "source": [
    "# Нормализация признаков и целевой переменной\n",
    "scaler_x = StandardScaler()\n",
    "scaler_y = StandardScaler()\n",
    "x_scaled = scaler_x.fit_transform(x)\n",
    "y_scaled = scaler_y.fit_transform(y)"
   ],
   "metadata": {
    "collapsed": false,
    "ExecuteTime": {
     "end_time": "2024-05-22T12:22:22.814250300Z",
     "start_time": "2024-05-22T12:22:22.782783300Z"
    }
   },
   "id": "7abb5a4d2fed18c1",
   "execution_count": 99
  },
  {
   "cell_type": "code",
   "outputs": [],
   "source": [
    "x_train, x_test, y_train, y_test = train_test_split(x_scaled, y_scaled, test_size=0.2, shuffle=False, random_state=42)"
   ],
   "metadata": {
    "collapsed": false,
    "ExecuteTime": {
     "end_time": "2024-05-22T12:22:22.815251100Z",
     "start_time": "2024-05-22T12:22:22.794377Z"
    }
   },
   "id": "26cde33353e9b2ac",
   "execution_count": 100
  },
  {
   "cell_type": "code",
   "outputs": [],
   "source": [
    "rnn = RNN(x_train.shape[1], 10, 1)\n",
    "rnn.train(x_train, y_train, epochs=500, learning_rate=0.001, batch_size=16)"
   ],
   "metadata": {
    "collapsed": false,
    "ExecuteTime": {
     "end_time": "2024-05-22T12:32:35.537494Z",
     "start_time": "2024-05-22T12:22:22.802243100Z"
    }
   },
   "id": "ff2b41b8f361135c",
   "execution_count": 101
  },
  {
   "cell_type": "code",
   "outputs": [],
   "source": [
    "def test_model(rnn, x_test, y_test):\n",
    "    predictions = [rnn.predict(x.reshape(1, -1)) for x in x_test]\n",
    "    predictions = np.array(predictions).reshape(-1, 1)\n",
    "\n",
    "    # Обратное масштабирование предсказанных значений\n",
    "    y_test_inverse = scaler_y.inverse_transform(y_test)\n",
    "    predictions_inverse = scaler_y.inverse_transform(predictions)\n",
    "    print(\"R2 Score:\\t\", r2_score(y_test_inverse, predictions_inverse))\n",
    "    print(\"RMSE:\\t\\t\", root_mean_squared_error(y_test_inverse, predictions_inverse))"
   ],
   "metadata": {
    "collapsed": false,
    "ExecuteTime": {
     "end_time": "2024-05-22T12:56:06.359032Z",
     "start_time": "2024-05-22T12:56:06.338451Z"
    }
   },
   "id": "31156a8e60a959dd",
   "execution_count": 104
  },
  {
   "cell_type": "code",
   "outputs": [
    {
     "name": "stdout",
     "output_type": "stream",
     "text": [
      "R2 Score:\t 0.9461760134782984\n",
      "RMSE:\t\t 7.278287033949173\n"
     ]
    }
   ],
   "source": [
    "test_model(rnn, x_test, y_test)"
   ],
   "metadata": {
    "collapsed": false,
    "ExecuteTime": {
     "end_time": "2024-05-22T12:56:21.101082300Z",
     "start_time": "2024-05-22T12:56:21.021842400Z"
    }
   },
   "id": "c139564b6e142dbd",
   "execution_count": 107
  },
  {
   "cell_type": "code",
   "outputs": [],
   "source": [],
   "metadata": {
    "collapsed": false,
    "ExecuteTime": {
     "end_time": "2024-05-22T12:32:35.631543300Z",
     "start_time": "2024-05-22T12:32:35.621016500Z"
    }
   },
   "id": "e54131ad0a570284",
   "execution_count": 103
  }
 ],
 "metadata": {
  "kernelspec": {
   "display_name": "Python 3",
   "language": "python",
   "name": "python3"
  },
  "language_info": {
   "codemirror_mode": {
    "name": "ipython",
    "version": 2
   },
   "file_extension": ".py",
   "mimetype": "text/x-python",
   "name": "python",
   "nbconvert_exporter": "python",
   "pygments_lexer": "ipython2",
   "version": "2.7.6"
  }
 },
 "nbformat": 4,
 "nbformat_minor": 5
}
