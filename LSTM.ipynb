{
 "cells": [
  {
   "cell_type": "markdown",
   "source": [
    "# LSTM (Long short-term memory)"
   ],
   "metadata": {
    "collapsed": false
   },
   "id": "d75a80a2c930e0f1"
  },
  {
   "cell_type": "code",
   "outputs": [],
   "source": [
    "import pandas as pd\n",
    "from sklearn.model_selection import train_test_split\n",
    "from sklearn.preprocessing import StandardScaler\n",
    "import numpy as np\n",
    "from sklearn.metrics import root_mean_squared_error, r2_score"
   ],
   "metadata": {
    "collapsed": false,
    "ExecuteTime": {
     "end_time": "2024-05-22T14:53:53.928377500Z",
     "start_time": "2024-05-22T14:53:53.916954Z"
    }
   },
   "id": "c1cc217af2707ae9",
   "execution_count": 34
  },
  {
   "cell_type": "code",
   "outputs": [],
   "source": [
    "def sigmoid(x):\n",
    "    return 1 / (1 + np.exp(-x))\n",
    "\n",
    "def sigmoid_derivative(x):\n",
    "    return sigmoid(x) * (1 - sigmoid(x))\n",
    "\n",
    "def tanh(x):\n",
    "    return np.tanh(x)\n",
    "\n",
    "def tanh_derivative(x):\n",
    "    return 1 - np.tanh(x)**2"
   ],
   "metadata": {
    "collapsed": false,
    "ExecuteTime": {
     "end_time": "2024-05-22T14:53:54.577742200Z",
     "start_time": "2024-05-22T14:53:54.574747100Z"
    }
   },
   "id": "aea68dd398083b02",
   "execution_count": 36
  },
  {
   "cell_type": "code",
   "outputs": [],
   "source": [
    "class LSTM:\n",
    "    def __init__(self, input_size, hidden_size, output_size):\n",
    "        self.input_size = input_size\n",
    "        self.hidden_size = hidden_size\n",
    "        self.output_size = output_size\n",
    "        \n",
    "        self.weights_forget_gate = self.__init_weights((input_size + hidden_size, hidden_size))\n",
    "        self.weights_input_gate = self.__init_weights((input_size + hidden_size, hidden_size))\n",
    "        self.weights_state = self.__init_weights((input_size + hidden_size, hidden_size))\n",
    "        self.weights_output_gate = self.__init_weights((input_size + hidden_size, hidden_size))\n",
    "        self.weights_output = self.__init_weights((hidden_size, output_size))\n",
    "        \n",
    "        self.biases_forget_gate = np.zeros((hidden_size,))\n",
    "        self.biases_input_gate = np.zeros((hidden_size,))\n",
    "        self.biases_state = np.zeros((hidden_size,))\n",
    "        self.biases_output_gate = np.zeros((hidden_size,))\n",
    "        self.biases_output = np.zeros((output_size,))\n",
    "        \n",
    "        self.c_prev = np.zeros((hidden_size,))\n",
    "        self.h_prev = np.zeros((hidden_size,))\n",
    "\n",
    "    def __forward_propagation(self, x):\n",
    "        x_and_h_prev = np.hstack([x, self.h_prev])\n",
    "        ft = sigmoid(np.dot(x_and_h_prev, self.weights_forget_gate) + self.biases_forget_gate)\n",
    "        it = sigmoid(np.dot(x_and_h_prev, self.weights_input_gate) + self.biases_input_gate)\n",
    "        ct = tanh(np.dot(x_and_h_prev, self.weights_state) + self.biases_state)\n",
    "        ot = sigmoid(np.dot(x_and_h_prev, self.weights_output_gate) + self.biases_output_gate)\n",
    "        \n",
    "        self.c_prev = ft * self.c_prev + it * ct\n",
    "        self.h_prev = ot * tanh(self.c_prev)\n",
    "        \n",
    "        y = np.dot(self.h_prev, self.weights_output) + self.biases_output\n",
    "        return y\n",
    "\n",
    "    def __backward_propagation(self, x, dy, learning_rate):\n",
    "        x_and_h_prev = np.hstack([x, self.h_prev])\n",
    "        ft = sigmoid(np.dot(x_and_h_prev, self.weights_forget_gate) + self.biases_forget_gate)\n",
    "        it = sigmoid(np.dot(x_and_h_prev, self.weights_input_gate) + self.biases_input_gate)\n",
    "        ct = tanh(np.dot(x_and_h_prev, self.weights_state) + self.biases_state)\n",
    "        ot = sigmoid(np.dot(x_and_h_prev, self.weights_output_gate) + self.biases_output_gate)\n",
    "        \n",
    "        dh = np.dot(dy, self.weights_output.T)\n",
    "        dc = dh * ot * tanh_derivative(tanh(self.c_prev))\n",
    "        \n",
    "        dwf = np.outer(x_and_h_prev, ft * (1 - ft) * self.c_prev * dc)\n",
    "        dwi = np.outer(x_and_h_prev, it * (1 - it) * ct * dc)\n",
    "        dwc = np.outer(x_and_h_prev, (1 - ct**2) * it * dc)\n",
    "        dwo = np.outer(x_and_h_prev, ot * (1 - ot) * tanh(self.c_prev) * dh)\n",
    "        \n",
    "        dbf = ft * (1 - ft) * self.c_prev * dc\n",
    "        dbi = it * (1 - it) * ct * dc\n",
    "        dbc = (1 - ct**2) * it * dc\n",
    "        dbo = ot * (1 - ot) * tanh(self.c_prev) * dh\n",
    "        \n",
    "        self.weights_forget_gate -= learning_rate * dwf\n",
    "        self.weights_input_gate -= learning_rate * dwi\n",
    "        self.weights_state -= learning_rate * dwc\n",
    "        self.weights_output_gate -= learning_rate * dwo\n",
    "        \n",
    "        self.biases_forget_gate -= learning_rate * dbf\n",
    "        self.biases_input_gate -= learning_rate * dbi\n",
    "        self.biases_state -= learning_rate * dbc\n",
    "        self.biases_output_gate -= learning_rate * dbo\n",
    "        \n",
    "        self.c_prev = self.c_prev * ft + it * tanh(ct)\n",
    "\n",
    "\n",
    "    def fit(self, x_train, y_train, epochs=100, learning_rate=0.001, batch_size=16):\n",
    "        for epoch in range(epochs):\n",
    "            perm = np.random.permutation(len(x_train))\n",
    "            for i in range(0, len(x_train), batch_size):\n",
    "                batch_indices = perm[i:i + batch_size]\n",
    "                batch_x = x_train[batch_indices]\n",
    "                batch_y = y_train[batch_indices]\n",
    "                outputs = []\n",
    "                for x in batch_x:\n",
    "                    out = self.__forward_propagation(x)\n",
    "                    outputs.append(out)\n",
    "                gradients = 2 * (outputs - batch_y) / batch_size\n",
    "                for j in range(len(gradients) - 1, 0, -1):\n",
    "                    self.__backward_propagation(batch_x[j], gradients[j], learning_rate)\n",
    "                    \n",
    "    def predict(self, x):\n",
    "        return self.__forward_propagation(x)\n",
    "        \n",
    "    def __init_weights(self, size):\n",
    "        return np.random.uniform(-1, 1, size)"
   ],
   "metadata": {
    "collapsed": false,
    "ExecuteTime": {
     "end_time": "2024-05-22T14:53:54.621667500Z",
     "start_time": "2024-05-22T14:53:54.606757400Z"
    }
   },
   "id": "37a0c323adfe6800",
   "execution_count": 37
  },
  {
   "cell_type": "code",
   "outputs": [],
   "source": [
    "df = pd.read_csv('resources/Clear_steel_industry_data.csv')"
   ],
   "metadata": {
    "collapsed": false,
    "ExecuteTime": {
     "end_time": "2024-05-22T14:53:54.684007500Z",
     "start_time": "2024-05-22T14:53:54.622667Z"
    }
   },
   "id": "492608d863e46e04",
   "execution_count": 38
  },
  {
   "cell_type": "code",
   "outputs": [],
   "source": [
    "x = df.drop('Usage_kWh', axis=1).values\n",
    "y = df['Usage_kWh'].values.reshape(-1, 1)"
   ],
   "metadata": {
    "collapsed": false,
    "ExecuteTime": {
     "end_time": "2024-05-22T14:53:54.697967100Z",
     "start_time": "2024-05-22T14:53:54.688012700Z"
    }
   },
   "id": "7a70f3b8acf549c4",
   "execution_count": 39
  },
  {
   "cell_type": "code",
   "outputs": [],
   "source": [
    "scaler_x = StandardScaler()\n",
    "scaler_y = StandardScaler()\n",
    "x_scaled = scaler_x.fit_transform(x)\n",
    "y_scaled = scaler_y.fit_transform(y)"
   ],
   "metadata": {
    "collapsed": false,
    "ExecuteTime": {
     "end_time": "2024-05-22T14:53:54.717487500Z",
     "start_time": "2024-05-22T14:53:54.702966900Z"
    }
   },
   "id": "d6c29d1fc6afce72",
   "execution_count": 40
  },
  {
   "cell_type": "code",
   "outputs": [],
   "source": [
    "x_train, x_test, y_train, y_test = train_test_split(x_scaled, y_scaled, test_size=0.2, shuffle=False, random_state=42)"
   ],
   "metadata": {
    "collapsed": false,
    "ExecuteTime": {
     "end_time": "2024-05-22T14:53:54.727747400Z",
     "start_time": "2024-05-22T14:53:54.722488600Z"
    }
   },
   "id": "97d6011efb4efaf6",
   "execution_count": 41
  },
  {
   "cell_type": "code",
   "outputs": [],
   "source": [
    "lstm = LSTM(x_train.shape[1], 10, 1)\n",
    "lstm.fit(x_train, y_train, epochs=100, learning_rate=0.001, batch_size=16)"
   ],
   "metadata": {
    "collapsed": false,
    "ExecuteTime": {
     "end_time": "2024-05-22T15:08:35.023631800Z",
     "start_time": "2024-05-22T14:53:54.732749400Z"
    }
   },
   "id": "fd3cb826f9d2646e",
   "execution_count": 42
  },
  {
   "cell_type": "code",
   "outputs": [],
   "source": [
    "def test_model(lstm, x_test, y_test):\n",
    "    predictions = [lstm.predict(x.reshape(1, -1)) for x in x_test]\n",
    "    predictions = np.array(predictions).reshape(-1, 1)\n",
    "\n",
    "    y_test_inverse = scaler_y.inverse_transform(y_test)\n",
    "    predictions_inverse = scaler_y.inverse_transform(predictions)\n",
    "    print(\"R2 Score:\\t\", r2_score(y_test_inverse, predictions_inverse))\n",
    "    print(\"RMSE:\\t\\t\", root_mean_squared_error(y_test_inverse, predictions_inverse))"
   ],
   "metadata": {
    "collapsed": false,
    "ExecuteTime": {
     "end_time": "2024-05-22T15:08:35.050115800Z",
     "start_time": "2024-05-22T15:08:35.033634400Z"
    }
   },
   "id": "c3da33042f9515ba",
   "execution_count": 43
  },
  {
   "cell_type": "code",
   "outputs": [
    {
     "name": "stdout",
     "output_type": "stream",
     "text": [
      "R2 Score:\t 0.7973077467102601\n",
      "RMSE:\t\t 14.124068777129098\n"
     ]
    }
   ],
   "source": [
    "test_model(lstm, x_test, y_test)"
   ],
   "metadata": {
    "collapsed": false,
    "ExecuteTime": {
     "end_time": "2024-05-22T15:08:35.584405500Z",
     "start_time": "2024-05-22T15:08:35.045116300Z"
    }
   },
   "id": "23fd67e798dd65e1",
   "execution_count": 44
  }
 ],
 "metadata": {
  "kernelspec": {
   "display_name": "Python 3",
   "language": "python",
   "name": "python3"
  },
  "language_info": {
   "codemirror_mode": {
    "name": "ipython",
    "version": 2
   },
   "file_extension": ".py",
   "mimetype": "text/x-python",
   "name": "python",
   "nbconvert_exporter": "python",
   "pygments_lexer": "ipython2",
   "version": "2.7.6"
  }
 },
 "nbformat": 4,
 "nbformat_minor": 5
}
